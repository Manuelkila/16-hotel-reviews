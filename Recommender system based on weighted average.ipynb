{
 "cells": [
  {
   "cell_type": "markdown",
   "metadata": {},
   "source": [
    "# Import required libraries"
   ]
  },
  {
   "cell_type": "code",
   "execution_count": 23,
   "metadata": {},
   "outputs": [],
   "source": [
    "import pandas as pd\n",
    "from joblib import load, dump"
   ]
  },
  {
   "cell_type": "markdown",
   "metadata": {},
   "source": [
    "# Load Data"
   ]
  },
  {
   "cell_type": "code",
   "execution_count": 6,
   "metadata": {},
   "outputs": [
    {
     "data": {
      "text/html": [
       "<div>\n",
       "<style scoped>\n",
       "    .dataframe tbody tr th:only-of-type {\n",
       "        vertical-align: middle;\n",
       "    }\n",
       "\n",
       "    .dataframe tbody tr th {\n",
       "        vertical-align: top;\n",
       "    }\n",
       "\n",
       "    .dataframe thead th {\n",
       "        text-align: right;\n",
       "    }\n",
       "</style>\n",
       "<table border=\"1\" class=\"dataframe\">\n",
       "  <thead>\n",
       "    <tr style=\"text-align: right;\">\n",
       "      <th></th>\n",
       "      <th>Hotel_Address</th>\n",
       "      <th>Additional_Number_of_Scoring</th>\n",
       "      <th>Review_Date</th>\n",
       "      <th>Average_Score</th>\n",
       "      <th>Hotel_Name</th>\n",
       "      <th>Reviewer_Nationality</th>\n",
       "      <th>Negative_Review</th>\n",
       "      <th>Review_Total_Negative_Word_Counts</th>\n",
       "      <th>Total_Number_of_Reviews</th>\n",
       "      <th>Positive_Review</th>\n",
       "      <th>Review_Total_Positive_Word_Counts</th>\n",
       "      <th>Total_Number_of_Reviews_Reviewer_Has_Given</th>\n",
       "      <th>Reviewer_Score</th>\n",
       "      <th>Tags</th>\n",
       "      <th>days_since_review</th>\n",
       "      <th>lat</th>\n",
       "      <th>lng</th>\n",
       "    </tr>\n",
       "  </thead>\n",
       "  <tbody>\n",
       "    <tr>\n",
       "      <th>0</th>\n",
       "      <td>s Gravesandestraat 55 Oost 1092 AA Amsterdam ...</td>\n",
       "      <td>194</td>\n",
       "      <td>8/3/2017</td>\n",
       "      <td>7.7</td>\n",
       "      <td>Hotel Arena</td>\n",
       "      <td>Russia</td>\n",
       "      <td>I am so angry that i made this post available...</td>\n",
       "      <td>397</td>\n",
       "      <td>1403</td>\n",
       "      <td>Only the park outside of the hotel was beauti...</td>\n",
       "      <td>11</td>\n",
       "      <td>7</td>\n",
       "      <td>2.9</td>\n",
       "      <td>[' Leisure trip ', ' Couple ', ' Duplex Double...</td>\n",
       "      <td>0 days</td>\n",
       "      <td>52.360576</td>\n",
       "      <td>4.915968</td>\n",
       "    </tr>\n",
       "    <tr>\n",
       "      <th>1</th>\n",
       "      <td>s Gravesandestraat 55 Oost 1092 AA Amsterdam ...</td>\n",
       "      <td>194</td>\n",
       "      <td>8/3/2017</td>\n",
       "      <td>7.7</td>\n",
       "      <td>Hotel Arena</td>\n",
       "      <td>Ireland</td>\n",
       "      <td>No Negative</td>\n",
       "      <td>0</td>\n",
       "      <td>1403</td>\n",
       "      <td>No real complaints the hotel was great great ...</td>\n",
       "      <td>105</td>\n",
       "      <td>7</td>\n",
       "      <td>7.5</td>\n",
       "      <td>[' Leisure trip ', ' Couple ', ' Duplex Double...</td>\n",
       "      <td>0 days</td>\n",
       "      <td>52.360576</td>\n",
       "      <td>4.915968</td>\n",
       "    </tr>\n",
       "    <tr>\n",
       "      <th>2</th>\n",
       "      <td>s Gravesandestraat 55 Oost 1092 AA Amsterdam ...</td>\n",
       "      <td>194</td>\n",
       "      <td>7/31/2017</td>\n",
       "      <td>7.7</td>\n",
       "      <td>Hotel Arena</td>\n",
       "      <td>Australia</td>\n",
       "      <td>Rooms are nice but for elderly a bit difficul...</td>\n",
       "      <td>42</td>\n",
       "      <td>1403</td>\n",
       "      <td>Location was good and staff were ok It is cut...</td>\n",
       "      <td>21</td>\n",
       "      <td>9</td>\n",
       "      <td>7.1</td>\n",
       "      <td>[' Leisure trip ', ' Family with young childre...</td>\n",
       "      <td>3 days</td>\n",
       "      <td>52.360576</td>\n",
       "      <td>4.915968</td>\n",
       "    </tr>\n",
       "  </tbody>\n",
       "</table>\n",
       "</div>"
      ],
      "text/plain": [
       "                                       Hotel_Address  \\\n",
       "0   s Gravesandestraat 55 Oost 1092 AA Amsterdam ...   \n",
       "1   s Gravesandestraat 55 Oost 1092 AA Amsterdam ...   \n",
       "2   s Gravesandestraat 55 Oost 1092 AA Amsterdam ...   \n",
       "\n",
       "   Additional_Number_of_Scoring Review_Date  Average_Score   Hotel_Name  \\\n",
       "0                           194    8/3/2017            7.7  Hotel Arena   \n",
       "1                           194    8/3/2017            7.7  Hotel Arena   \n",
       "2                           194   7/31/2017            7.7  Hotel Arena   \n",
       "\n",
       "  Reviewer_Nationality                                    Negative_Review  \\\n",
       "0              Russia    I am so angry that i made this post available...   \n",
       "1             Ireland                                         No Negative   \n",
       "2           Australia    Rooms are nice but for elderly a bit difficul...   \n",
       "\n",
       "   Review_Total_Negative_Word_Counts  Total_Number_of_Reviews  \\\n",
       "0                                397                     1403   \n",
       "1                                  0                     1403   \n",
       "2                                 42                     1403   \n",
       "\n",
       "                                     Positive_Review  \\\n",
       "0   Only the park outside of the hotel was beauti...   \n",
       "1   No real complaints the hotel was great great ...   \n",
       "2   Location was good and staff were ok It is cut...   \n",
       "\n",
       "   Review_Total_Positive_Word_Counts  \\\n",
       "0                                 11   \n",
       "1                                105   \n",
       "2                                 21   \n",
       "\n",
       "   Total_Number_of_Reviews_Reviewer_Has_Given  Reviewer_Score  \\\n",
       "0                                           7             2.9   \n",
       "1                                           7             7.5   \n",
       "2                                           9             7.1   \n",
       "\n",
       "                                                Tags days_since_review  \\\n",
       "0  [' Leisure trip ', ' Couple ', ' Duplex Double...            0 days   \n",
       "1  [' Leisure trip ', ' Couple ', ' Duplex Double...            0 days   \n",
       "2  [' Leisure trip ', ' Family with young childre...            3 days   \n",
       "\n",
       "         lat       lng  \n",
       "0  52.360576  4.915968  \n",
       "1  52.360576  4.915968  \n",
       "2  52.360576  4.915968  "
      ]
     },
     "execution_count": 6,
     "metadata": {},
     "output_type": "execute_result"
    }
   ],
   "source": [
    "df = pd.read_csv('Hotel_Review.csv')\n",
    "df.head(3)"
   ]
  },
  {
   "cell_type": "markdown",
   "metadata": {},
   "source": [
    "# Define Recommender System Class"
   ]
  },
  {
   "cell_type": "code",
   "execution_count": 22,
   "metadata": {},
   "outputs": [],
   "source": [
    "class weighted_average_recommender():\n",
    "    def __init__(self, df):\n",
    "        self.df = df.drop(['Additional_Number_of_Scoring', 'Hotel_Address', 'Review_Date', \n",
    "                           'Reviewer_Nationality', 'Negative_Review', 'Positive_Review',\n",
    "                           'Review_Total_Negative_Word_Counts', 'Review_Total_Positive_Word_Counts',\n",
    "                           'Total_Number_of_Reviews_Reviewer_Has_Given', 'Tags', 'days_since_review', \n",
    "                           'Reviewer_Score', 'lat', 'lng' ], axis = 1)\n",
    "        # Drop Duplicates\n",
    "        self.df = self.df.drop_duplicates()\n",
    "        \n",
    "    \n",
    "    # Define recommender system method\n",
    "    def recommend(self):\n",
    "        \"\"\"\n",
    "        This function recommends top hotels to a user \n",
    "        based on a user's input.\n",
    "        \n",
    "        \"\"\"\n",
    "        # Calculate all required components from dataframe\n",
    "        \n",
    "        v = self.df['Total_Number_of_Reviews'] # Total number of reviews used as votes for each hotels\n",
    "        R = self.df['Average_Score'] # Average ratings for each hotels \n",
    "        C = self.df['Average_Score'].mean() # The mean score across the whole  average score\n",
    "        m = self.df['Total_Number_of_Reviews'].quantile(0.3) # Minimum  votes required to be in the top list\n",
    "        \n",
    "        # Add the computed weighted averages to dataframe\n",
    "        self.df['weighted_average_score'] = ((R * v) + (C * m))/(v + m)\n",
    "        \n",
    "        # Rank the hotels in decending order\n",
    "        ranked_hotels = self.df.sort_values('weighted_average_score', ascending=False)\n",
    "        \n",
    "        # Now we get input from user\n",
    "        user_input = int(input('How many hotels do you want recommendations for?: '))\n",
    "        print('')\n",
    "        print(f'The top {user_input} hotels we recommend in Europe are: ')\n",
    "        print('*'*45)\n",
    "        # Append top hotels to list\n",
    "        recommended_hotels = [ranked_hotels.loc[ranked_hotels.index[i], 'Hotel_Name'] for i in range(user_input)]\n",
    "        \n",
    "        # return the recommended hotels  to the user\n",
    "        return recommended_hotels"
   ]
  },
  {
   "cell_type": "markdown",
   "metadata": {},
   "source": [
    "# Execute the Recommender System"
   ]
  },
  {
   "cell_type": "code",
   "execution_count": 24,
   "metadata": {},
   "outputs": [],
   "source": [
    "# Instantiate an object\n",
    "recommender = weighted_average_recommender(df)"
   ]
  },
  {
   "cell_type": "code",
   "execution_count": 25,
   "metadata": {},
   "outputs": [
    {
     "name": "stdout",
     "output_type": "stream",
     "text": [
      "How many hotels do you want recommendations for?: 30\n",
      "\n",
      "The top 30 hotels we recommend in Europe are: \n",
      "*********************************************\n"
     ]
    },
    {
     "data": {
      "text/plain": [
       "['Intercontinental London The O2',\n",
       " 'Shangri La Hotel at The Shard London',\n",
       " 'Catalonia Square 4 Sup',\n",
       " 'Olivia Plaza Hotel',\n",
       " 'Hilton London Bankside',\n",
       " 'Best Western Premier Kaiserhof Wien',\n",
       " 'Excelsior Hotel Gallia Luxury Collection Hotel',\n",
       " 'Hotel Casa Camper',\n",
       " 'Hotel Palace GL',\n",
       " 'Room Mate Giulia',\n",
       " 'Olivia Balmes Hotel',\n",
       " 'Hotel Berna',\n",
       " 'Amba Hotel Charing Cross',\n",
       " 'Catalonia Magdalenes',\n",
       " 'Ambassade Hotel',\n",
       " 'The Nadler Victoria',\n",
       " 'The Savoy',\n",
       " 'Rosewood London',\n",
       " 'Hotel The Serras',\n",
       " 'Apex Temple Court Hotel',\n",
       " 'H10 Cubik 4 Sup',\n",
       " 'The Guesthouse Vienna',\n",
       " 'The Toren',\n",
       " 'H tel D Aubusson',\n",
       " 'The Langham London',\n",
       " 'Catalonia Passeig de Gr cia 4 Sup',\n",
       " 'Hotel K nig von Ungarn',\n",
       " 'Catalonia Catedral',\n",
       " 'Hotel Sans Souci Wien',\n",
       " 'Hotel Cafe Royal']"
      ]
     },
     "execution_count": 25,
     "metadata": {},
     "output_type": "execute_result"
    }
   ],
   "source": [
    "# run the recommender method\n",
    "recommender.recommend()"
   ]
  },
  {
   "cell_type": "markdown",
   "metadata": {},
   "source": [
    "# Save Model"
   ]
  },
  {
   "cell_type": "code",
   "execution_count": 26,
   "metadata": {},
   "outputs": [
    {
     "data": {
      "text/plain": [
       "['model\\\\Recommender_system_based_on_weighted_average.joblib']"
      ]
     },
     "execution_count": 26,
     "metadata": {},
     "output_type": "execute_result"
    }
   ],
   "source": [
    "dump(recommender, 'model\\Recommender_system_based_on_weighted_average.joblib')"
   ]
  },
  {
   "cell_type": "code",
   "execution_count": null,
   "metadata": {},
   "outputs": [],
   "source": []
  }
 ],
 "metadata": {
  "kernelspec": {
   "display_name": "Python 3",
   "language": "python",
   "name": "python3"
  },
  "language_info": {
   "codemirror_mode": {
    "name": "ipython",
    "version": 3
   },
   "file_extension": ".py",
   "mimetype": "text/x-python",
   "name": "python",
   "nbconvert_exporter": "python",
   "pygments_lexer": "ipython3",
   "version": "3.7.6"
  }
 },
 "nbformat": 4,
 "nbformat_minor": 4
}

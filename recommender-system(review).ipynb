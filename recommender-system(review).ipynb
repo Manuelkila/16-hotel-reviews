{
 "cells": [
  {
   "cell_type": "code",
   "execution_count": 1,
   "metadata": {
    "id": "Q9dVof_HcWbf"
   },
   "outputs": [],
   "source": [
    "import pandas as pd\n",
    "import numpy as np\n",
    "from nltk.corpus import stopwords\n",
    "from sklearn.feature_extraction.text import TfidfVectorizer\n",
    "from sklearn.metrics.pairwise import linear_kernel\n",
    "from joblib import load,dump"
   ]
  },
  {
   "cell_type": "code",
   "execution_count": 2,
   "metadata": {
    "id": "5D1ZdL1wcWbu",
    "outputId": "f5463e0c-74ed-4305-b4e1-932820eef689",
    "scrolled": false
   },
   "outputs": [
    {
     "data": {
      "text/html": [
       "<div>\n",
       "<style scoped>\n",
       "    .dataframe tbody tr th:only-of-type {\n",
       "        vertical-align: middle;\n",
       "    }\n",
       "\n",
       "    .dataframe tbody tr th {\n",
       "        vertical-align: top;\n",
       "    }\n",
       "\n",
       "    .dataframe thead th {\n",
       "        text-align: right;\n",
       "    }\n",
       "</style>\n",
       "<table border=\"1\" class=\"dataframe\">\n",
       "  <thead>\n",
       "    <tr style=\"text-align: right;\">\n",
       "      <th></th>\n",
       "      <th>Unnamed: 0</th>\n",
       "      <th>Hotel_Address</th>\n",
       "      <th>Additional_Number_of_Scoring</th>\n",
       "      <th>Review_Date</th>\n",
       "      <th>Average_Score</th>\n",
       "      <th>Hotel_Name</th>\n",
       "      <th>Reviewer_Nationality</th>\n",
       "      <th>Negative_Review</th>\n",
       "      <th>Review_Total_Negative_Word_Counts</th>\n",
       "      <th>Total_Number_of_Reviews</th>\n",
       "      <th>...</th>\n",
       "      <th>wi_fi</th>\n",
       "      <th>air_conditioning</th>\n",
       "      <th>breakfast</th>\n",
       "      <th>booking_com</th>\n",
       "      <th>room_problem</th>\n",
       "      <th>location</th>\n",
       "      <th>staff</th>\n",
       "      <th>bed_and_room</th>\n",
       "      <th>month</th>\n",
       "      <th>year</th>\n",
       "    </tr>\n",
       "  </thead>\n",
       "  <tbody>\n",
       "    <tr>\n",
       "      <th>0</th>\n",
       "      <td>0</td>\n",
       "      <td>s Gravesandestraat 55 Oost 1092 AA Amsterdam ...</td>\n",
       "      <td>194</td>\n",
       "      <td>8/3/2017</td>\n",
       "      <td>7.7</td>\n",
       "      <td>Hotel Arena</td>\n",
       "      <td>Russia</td>\n",
       "      <td>I am so angry that i made this post available...</td>\n",
       "      <td>397</td>\n",
       "      <td>1403</td>\n",
       "      <td>...</td>\n",
       "      <td>0.0</td>\n",
       "      <td>0.0</td>\n",
       "      <td>0.0</td>\n",
       "      <td>1.0</td>\n",
       "      <td>0.0</td>\n",
       "      <td>0.0</td>\n",
       "      <td>0.0</td>\n",
       "      <td>0.0</td>\n",
       "      <td>8</td>\n",
       "      <td>2017</td>\n",
       "    </tr>\n",
       "    <tr>\n",
       "      <th>1</th>\n",
       "      <td>1</td>\n",
       "      <td>s Gravesandestraat 55 Oost 1092 AA Amsterdam ...</td>\n",
       "      <td>194</td>\n",
       "      <td>8/3/2017</td>\n",
       "      <td>7.7</td>\n",
       "      <td>Hotel Arena</td>\n",
       "      <td>Ireland</td>\n",
       "      <td>No Negative</td>\n",
       "      <td>0</td>\n",
       "      <td>1403</td>\n",
       "      <td>...</td>\n",
       "      <td>0.0</td>\n",
       "      <td>0.0</td>\n",
       "      <td>0.0</td>\n",
       "      <td>0.0</td>\n",
       "      <td>0.0</td>\n",
       "      <td>1.0</td>\n",
       "      <td>0.0</td>\n",
       "      <td>0.0</td>\n",
       "      <td>8</td>\n",
       "      <td>2017</td>\n",
       "    </tr>\n",
       "    <tr>\n",
       "      <th>2</th>\n",
       "      <td>2</td>\n",
       "      <td>s Gravesandestraat 55 Oost 1092 AA Amsterdam ...</td>\n",
       "      <td>194</td>\n",
       "      <td>7/31/2017</td>\n",
       "      <td>7.7</td>\n",
       "      <td>Hotel Arena</td>\n",
       "      <td>Australia</td>\n",
       "      <td>Rooms are nice but for elderly a bit difficul...</td>\n",
       "      <td>42</td>\n",
       "      <td>1403</td>\n",
       "      <td>...</td>\n",
       "      <td>0.0</td>\n",
       "      <td>0.0</td>\n",
       "      <td>1.0</td>\n",
       "      <td>0.0</td>\n",
       "      <td>0.0</td>\n",
       "      <td>1.0</td>\n",
       "      <td>0.0</td>\n",
       "      <td>0.0</td>\n",
       "      <td>7</td>\n",
       "      <td>2017</td>\n",
       "    </tr>\n",
       "    <tr>\n",
       "      <th>3</th>\n",
       "      <td>3</td>\n",
       "      <td>s Gravesandestraat 55 Oost 1092 AA Amsterdam ...</td>\n",
       "      <td>194</td>\n",
       "      <td>7/31/2017</td>\n",
       "      <td>7.7</td>\n",
       "      <td>Hotel Arena</td>\n",
       "      <td>UK</td>\n",
       "      <td>My room was dirty and I was afraid to walk ba...</td>\n",
       "      <td>210</td>\n",
       "      <td>1403</td>\n",
       "      <td>...</td>\n",
       "      <td>0.0</td>\n",
       "      <td>0.0</td>\n",
       "      <td>0.0</td>\n",
       "      <td>0.0</td>\n",
       "      <td>0.0</td>\n",
       "      <td>1.0</td>\n",
       "      <td>0.0</td>\n",
       "      <td>0.0</td>\n",
       "      <td>7</td>\n",
       "      <td>2017</td>\n",
       "    </tr>\n",
       "    <tr>\n",
       "      <th>4</th>\n",
       "      <td>4</td>\n",
       "      <td>s Gravesandestraat 55 Oost 1092 AA Amsterdam ...</td>\n",
       "      <td>194</td>\n",
       "      <td>7/24/2017</td>\n",
       "      <td>7.7</td>\n",
       "      <td>Hotel Arena</td>\n",
       "      <td>New Zealand</td>\n",
       "      <td>You When I booked with your company on line y...</td>\n",
       "      <td>140</td>\n",
       "      <td>1403</td>\n",
       "      <td>...</td>\n",
       "      <td>0.0</td>\n",
       "      <td>0.0</td>\n",
       "      <td>0.0</td>\n",
       "      <td>0.0</td>\n",
       "      <td>0.0</td>\n",
       "      <td>0.0</td>\n",
       "      <td>0.0</td>\n",
       "      <td>0.0</td>\n",
       "      <td>7</td>\n",
       "      <td>2017</td>\n",
       "    </tr>\n",
       "  </tbody>\n",
       "</table>\n",
       "<p>5 rows × 35 columns</p>\n",
       "</div>"
      ],
      "text/plain": [
       "   Unnamed: 0                                      Hotel_Address  \\\n",
       "0           0   s Gravesandestraat 55 Oost 1092 AA Amsterdam ...   \n",
       "1           1   s Gravesandestraat 55 Oost 1092 AA Amsterdam ...   \n",
       "2           2   s Gravesandestraat 55 Oost 1092 AA Amsterdam ...   \n",
       "3           3   s Gravesandestraat 55 Oost 1092 AA Amsterdam ...   \n",
       "4           4   s Gravesandestraat 55 Oost 1092 AA Amsterdam ...   \n",
       "\n",
       "   Additional_Number_of_Scoring Review_Date  Average_Score   Hotel_Name  \\\n",
       "0                           194    8/3/2017            7.7  Hotel Arena   \n",
       "1                           194    8/3/2017            7.7  Hotel Arena   \n",
       "2                           194   7/31/2017            7.7  Hotel Arena   \n",
       "3                           194   7/31/2017            7.7  Hotel Arena   \n",
       "4                           194   7/24/2017            7.7  Hotel Arena   \n",
       "\n",
       "  Reviewer_Nationality                                    Negative_Review  \\\n",
       "0               Russia   I am so angry that i made this post available...   \n",
       "1              Ireland                                        No Negative   \n",
       "2            Australia   Rooms are nice but for elderly a bit difficul...   \n",
       "3                   UK   My room was dirty and I was afraid to walk ba...   \n",
       "4          New Zealand   You When I booked with your company on line y...   \n",
       "\n",
       "   Review_Total_Negative_Word_Counts  Total_Number_of_Reviews  ... wi_fi  \\\n",
       "0                                397                     1403  ...   0.0   \n",
       "1                                  0                     1403  ...   0.0   \n",
       "2                                 42                     1403  ...   0.0   \n",
       "3                                210                     1403  ...   0.0   \n",
       "4                                140                     1403  ...   0.0   \n",
       "\n",
       "   air_conditioning  breakfast  booking_com room_problem location  staff  \\\n",
       "0               0.0        0.0          1.0          0.0      0.0    0.0   \n",
       "1               0.0        0.0          0.0          0.0      1.0    0.0   \n",
       "2               0.0        1.0          0.0          0.0      1.0    0.0   \n",
       "3               0.0        0.0          0.0          0.0      1.0    0.0   \n",
       "4               0.0        0.0          0.0          0.0      0.0    0.0   \n",
       "\n",
       "   bed_and_room month  year  \n",
       "0           0.0     8  2017  \n",
       "1           0.0     8  2017  \n",
       "2           0.0     7  2017  \n",
       "3           0.0     7  2017  \n",
       "4           0.0     7  2017  \n",
       "\n",
       "[5 rows x 35 columns]"
      ]
     },
     "execution_count": 2,
     "metadata": {},
     "output_type": "execute_result"
    }
   ],
   "source": [
    "df= pd.read_csv('data/Hotel_review_feature_engineering.csv')\n",
    "df.head()"
   ]
  },
  {
   "cell_type": "code",
   "execution_count": 3,
   "metadata": {},
   "outputs": [],
   "source": [
    "class Review_recommender():\n",
    "    def __init__(self,data=df):\n",
    "        self.data = data\n",
    "        self.clean_df = self.data.groupby('Hotel_Name').agg({'Negative_Review':', '.join,'Positive_Review':', '.join}).reset_index()\n",
    "        self.clean_df['Combined_Review'] = self.clean_df['Positive_Review'].astype(str) + self.clean_df['Negative_Review'].astype(str)\n",
    "        self.clean_df[\"Combined_Review\"] = self.clean_df[\"Combined_Review\"].apply(lambda x: x.replace(\"No Negative\", \"\").replace(\"No Positive\", \"\"))\n",
    "        self.clean_df['Combined_Review'] = self.clean_df['Combined_Review'].apply(lambda x: \" \".join(x.lower() for x in x.split()))\n",
    "        stop = stopwords.words('english')\n",
    "        self.clean_df['Combined_Review'] = self.clean_df['Combined_Review'].apply(lambda x: \" \".join(x for x in x.split() if x not in stop))\n",
    "        tfv = TfidfVectorizer(min_df=3, max_features =None,strip_accents='unicode',analyzer='word',token_pattern=r'\\w{1,}',ngram_range=(1,3))\n",
    "        self.tfv_matrix = tfv.fit_transform(self.clean_df['Combined_Review'])\n",
    "        self.clean_df.drop(['Combined_Review','Positive_Review','Negative_Review'],1,inplace=True)\n",
    "        del tfv,self.data,stop\n",
    "        self.cos_sim = linear_kernel(self.tfv_matrix, self.tfv_matrix)\n",
    "        self.indices = pd.Series(self.clean_df.index, index=self.clean_df['Hotel_Name']).drop_duplicates()\n",
    "        \n",
    "    def recommend(self,index):\n",
    "        index = self.indices[index]\n",
    "        sim_scores = list(enumerate(self.cos_sim[index]))\n",
    "        sim_scores = sorted(sim_scores, key=lambda x: x[1], reverse=True)\n",
    "        sim_scores = sim_scores[1:11]\n",
    "        hotel_indices = [i[0] for i in sim_scores]\n",
    "        for i in self.clean_df['Hotel_Name'].iloc[hotel_indices]:\n",
    "            print(i)"
   ]
  },
  {
   "cell_type": "code",
   "execution_count": 4,
   "metadata": {
    "id": "UWYy9OojcWeM"
   },
   "outputs": [
    {
     "name": "stdout",
     "output_type": "stream",
     "text": [
      "Park Plaza London Riverbank\n",
      "Hampshire Hotel Amsterdam American\n",
      "Hilton London Metropole\n",
      "Grand Royale London Hyde Park\n",
      "The Student Hotel Amsterdam City\n",
      "Park Plaza Vondelpark Amsterdam\n",
      "NH Collection Amsterdam Grand Hotel Krasnapolsky\n",
      "The Principal London\n",
      "Radisson Blu Hotel Amsterdam\n",
      "Holiday Inn London Kensington\n"
     ]
    }
   ],
   "source": [
    "recommender = Review_recommender()\n",
    "recommender.recommend('Hotel Arena')"
   ]
  },
  {
   "cell_type": "code",
   "execution_count": 5,
   "metadata": {},
   "outputs": [
    {
     "data": {
      "text/plain": [
       "['model/recommender_based_on_reviews.joblib']"
      ]
     },
     "execution_count": 5,
     "metadata": {},
     "output_type": "execute_result"
    }
   ],
   "source": [
    "dump(recommender,'model/recommender_based_on_reviews.joblib')"
   ]
  },
  {
   "cell_type": "code",
   "execution_count": 6,
   "metadata": {},
   "outputs": [],
   "source": [
    "model = load('model/recommender_based_on_reviews.joblib')"
   ]
  },
  {
   "cell_type": "code",
   "execution_count": 7,
   "metadata": {},
   "outputs": [
    {
     "name": "stdout",
     "output_type": "stream",
     "text": [
      "Royal Passeig de Gracia\n",
      "Hotel Espa a Ramblas\n",
      "Avenida Palace\n",
      "Catalonia Plaza Catalunya\n",
      "Hotel Regina\n",
      "Hotel Barcelona Catedral\n",
      "Negresco Princess 4 Sup\n",
      "Olivia Plaza Hotel\n",
      "H10 Cubik 4 Sup\n",
      "Petit Palace Boqueria Garden\n"
     ]
    }
   ],
   "source": [
    "model.recommend('Hotel Pulitzer')"
   ]
  },
  {
   "cell_type": "code",
   "execution_count": null,
   "metadata": {},
   "outputs": [],
   "source": []
  }
 ],
 "metadata": {
  "kernelspec": {
   "display_name": "Python 3",
   "language": "python",
   "name": "python3"
  },
  "language_info": {
   "codemirror_mode": {
    "name": "ipython",
    "version": 3
   },
   "file_extension": ".py",
   "mimetype": "text/x-python",
   "name": "python",
   "nbconvert_exporter": "python",
   "pygments_lexer": "ipython3",
   "version": "3.8.3"
  }
 },
 "nbformat": 4,
 "nbformat_minor": 4
}
